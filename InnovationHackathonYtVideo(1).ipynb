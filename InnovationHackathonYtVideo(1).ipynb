{
  "nbformat": 4,
  "nbformat_minor": 0,
  "metadata": {
    "colab": {
      "provenance": [],
      "gpuType": "T4"
    },
    "kernelspec": {
      "name": "python3",
      "display_name": "Python 3"
    },
    "language_info": {
      "name": "python"
    },
    "accelerator": "GPU"
  },
  "cells": [
    {
      "cell_type": "markdown",
      "source": [
        "# **Install the required modules**"
      ],
      "metadata": {
        "id": "7ay49KzqqSid"
      }
    },
    {
      "cell_type": "code",
      "execution_count": 1,
      "metadata": {
        "colab": {
          "base_uri": "https://localhost:8080/"
        },
        "id": "1_6x0S5yqLdt",
        "outputId": "f1ed8922-9e8f-4f20-8583-0016a2cb3f2f"
      },
      "outputs": [
        {
          "output_type": "stream",
          "name": "stdout",
          "text": [
            "Collecting youtube-transcript-api\n",
            "  Downloading youtube_transcript_api-0.6.2-py3-none-any.whl (24 kB)\n",
            "Requirement already satisfied: requests in /usr/local/lib/python3.10/dist-packages (from youtube-transcript-api) (2.31.0)\n",
            "Requirement already satisfied: charset-normalizer<4,>=2 in /usr/local/lib/python3.10/dist-packages (from requests->youtube-transcript-api) (3.3.2)\n",
            "Requirement already satisfied: idna<4,>=2.5 in /usr/local/lib/python3.10/dist-packages (from requests->youtube-transcript-api) (3.7)\n",
            "Requirement already satisfied: urllib3<3,>=1.21.1 in /usr/local/lib/python3.10/dist-packages (from requests->youtube-transcript-api) (2.0.7)\n",
            "Requirement already satisfied: certifi>=2017.4.17 in /usr/local/lib/python3.10/dist-packages (from requests->youtube-transcript-api) (2024.7.4)\n",
            "Installing collected packages: youtube-transcript-api\n",
            "Successfully installed youtube-transcript-api-0.6.2\n",
            "Collecting openai\n",
            "  Downloading openai-1.35.14-py3-none-any.whl (328 kB)\n",
            "\u001b[2K     \u001b[90m━━━━━━━━━━━━━━━━━━━━━━━━━━━━━━━━━━━━━━━━\u001b[0m \u001b[32m328.5/328.5 kB\u001b[0m \u001b[31m6.6 MB/s\u001b[0m eta \u001b[36m0:00:00\u001b[0m\n",
            "\u001b[?25hRequirement already satisfied: anyio<5,>=3.5.0 in /usr/local/lib/python3.10/dist-packages (from openai) (3.7.1)\n",
            "Requirement already satisfied: distro<2,>=1.7.0 in /usr/lib/python3/dist-packages (from openai) (1.7.0)\n",
            "Collecting httpx<1,>=0.23.0 (from openai)\n",
            "  Downloading httpx-0.27.0-py3-none-any.whl (75 kB)\n",
            "\u001b[2K     \u001b[90m━━━━━━━━━━━━━━━━━━━━━━━━━━━━━━━━━━━━━━━━\u001b[0m \u001b[32m75.6/75.6 kB\u001b[0m \u001b[31m7.2 MB/s\u001b[0m eta \u001b[36m0:00:00\u001b[0m\n",
            "\u001b[?25hRequirement already satisfied: pydantic<3,>=1.9.0 in /usr/local/lib/python3.10/dist-packages (from openai) (2.8.2)\n",
            "Requirement already satisfied: sniffio in /usr/local/lib/python3.10/dist-packages (from openai) (1.3.1)\n",
            "Requirement already satisfied: tqdm>4 in /usr/local/lib/python3.10/dist-packages (from openai) (4.66.4)\n",
            "Requirement already satisfied: typing-extensions<5,>=4.7 in /usr/local/lib/python3.10/dist-packages (from openai) (4.12.2)\n",
            "Requirement already satisfied: idna>=2.8 in /usr/local/lib/python3.10/dist-packages (from anyio<5,>=3.5.0->openai) (3.7)\n",
            "Requirement already satisfied: exceptiongroup in /usr/local/lib/python3.10/dist-packages (from anyio<5,>=3.5.0->openai) (1.2.1)\n",
            "Requirement already satisfied: certifi in /usr/local/lib/python3.10/dist-packages (from httpx<1,>=0.23.0->openai) (2024.7.4)\n",
            "Collecting httpcore==1.* (from httpx<1,>=0.23.0->openai)\n",
            "  Downloading httpcore-1.0.5-py3-none-any.whl (77 kB)\n",
            "\u001b[2K     \u001b[90m━━━━━━━━━━━━━━━━━━━━━━━━━━━━━━━━━━━━━━━━\u001b[0m \u001b[32m77.9/77.9 kB\u001b[0m \u001b[31m5.8 MB/s\u001b[0m eta \u001b[36m0:00:00\u001b[0m\n",
            "\u001b[?25hCollecting h11<0.15,>=0.13 (from httpcore==1.*->httpx<1,>=0.23.0->openai)\n",
            "  Downloading h11-0.14.0-py3-none-any.whl (58 kB)\n",
            "\u001b[2K     \u001b[90m━━━━━━━━━━━━━━━━━━━━━━━━━━━━━━━━━━━━━━━━\u001b[0m \u001b[32m58.3/58.3 kB\u001b[0m \u001b[31m7.9 MB/s\u001b[0m eta \u001b[36m0:00:00\u001b[0m\n",
            "\u001b[?25hRequirement already satisfied: annotated-types>=0.4.0 in /usr/local/lib/python3.10/dist-packages (from pydantic<3,>=1.9.0->openai) (0.7.0)\n",
            "Requirement already satisfied: pydantic-core==2.20.1 in /usr/local/lib/python3.10/dist-packages (from pydantic<3,>=1.9.0->openai) (2.20.1)\n",
            "Installing collected packages: h11, httpcore, httpx, openai\n",
            "Successfully installed h11-0.14.0 httpcore-1.0.5 httpx-0.27.0 openai-1.35.14\n",
            "Collecting pytube\n",
            "  Downloading pytube-15.0.0-py3-none-any.whl (57 kB)\n",
            "\u001b[2K     \u001b[90m━━━━━━━━━━━━━━━━━━━━━━━━━━━━━━━━━━━━━━━━\u001b[0m \u001b[32m57.6/57.6 kB\u001b[0m \u001b[31m2.3 MB/s\u001b[0m eta \u001b[36m0:00:00\u001b[0m\n",
            "\u001b[?25hInstalling collected packages: pytube\n",
            "Successfully installed pytube-15.0.0\n",
            "Collecting openai-whisper\n",
            "  Downloading openai-whisper-20231117.tar.gz (798 kB)\n",
            "\u001b[2K     \u001b[90m━━━━━━━━━━━━━━━━━━━━━━━━━━━━━━━━━━━━━━━━\u001b[0m \u001b[32m798.6/798.6 kB\u001b[0m \u001b[31m9.8 MB/s\u001b[0m eta \u001b[36m0:00:00\u001b[0m\n",
            "\u001b[?25h  Installing build dependencies ... \u001b[?25l\u001b[?25hdone\n",
            "  Getting requirements to build wheel ... \u001b[?25l\u001b[?25hdone\n",
            "  Preparing metadata (pyproject.toml) ... \u001b[?25l\u001b[?25hdone\n",
            "Requirement already satisfied: triton<3,>=2.0.0 in /usr/local/lib/python3.10/dist-packages (from openai-whisper) (2.3.0)\n",
            "Requirement already satisfied: numba in /usr/local/lib/python3.10/dist-packages (from openai-whisper) (0.58.1)\n",
            "Requirement already satisfied: numpy in /usr/local/lib/python3.10/dist-packages (from openai-whisper) (1.25.2)\n",
            "Requirement already satisfied: torch in /usr/local/lib/python3.10/dist-packages (from openai-whisper) (2.3.0+cu121)\n",
            "Requirement already satisfied: tqdm in /usr/local/lib/python3.10/dist-packages (from openai-whisper) (4.66.4)\n",
            "Requirement already satisfied: more-itertools in /usr/local/lib/python3.10/dist-packages (from openai-whisper) (10.1.0)\n",
            "Collecting tiktoken (from openai-whisper)\n",
            "  Downloading tiktoken-0.7.0-cp310-cp310-manylinux_2_17_x86_64.manylinux2014_x86_64.whl (1.1 MB)\n",
            "\u001b[2K     \u001b[90m━━━━━━━━━━━━━━━━━━━━━━━━━━━━━━━━━━━━━━━━\u001b[0m \u001b[32m1.1/1.1 MB\u001b[0m \u001b[31m18.1 MB/s\u001b[0m eta \u001b[36m0:00:00\u001b[0m\n",
            "\u001b[?25hRequirement already satisfied: filelock in /usr/local/lib/python3.10/dist-packages (from triton<3,>=2.0.0->openai-whisper) (3.15.4)\n",
            "Requirement already satisfied: llvmlite<0.42,>=0.41.0dev0 in /usr/local/lib/python3.10/dist-packages (from numba->openai-whisper) (0.41.1)\n",
            "Requirement already satisfied: regex>=2022.1.18 in /usr/local/lib/python3.10/dist-packages (from tiktoken->openai-whisper) (2024.5.15)\n",
            "Requirement already satisfied: requests>=2.26.0 in /usr/local/lib/python3.10/dist-packages (from tiktoken->openai-whisper) (2.31.0)\n",
            "Requirement already satisfied: typing-extensions>=4.8.0 in /usr/local/lib/python3.10/dist-packages (from torch->openai-whisper) (4.12.2)\n",
            "Requirement already satisfied: sympy in /usr/local/lib/python3.10/dist-packages (from torch->openai-whisper) (1.13.0)\n",
            "Requirement already satisfied: networkx in /usr/local/lib/python3.10/dist-packages (from torch->openai-whisper) (3.3)\n",
            "Requirement already satisfied: jinja2 in /usr/local/lib/python3.10/dist-packages (from torch->openai-whisper) (3.1.4)\n",
            "Requirement already satisfied: fsspec in /usr/local/lib/python3.10/dist-packages (from torch->openai-whisper) (2023.6.0)\n",
            "Collecting nvidia-cuda-nvrtc-cu12==12.1.105 (from torch->openai-whisper)\n",
            "  Using cached nvidia_cuda_nvrtc_cu12-12.1.105-py3-none-manylinux1_x86_64.whl (23.7 MB)\n",
            "Collecting nvidia-cuda-runtime-cu12==12.1.105 (from torch->openai-whisper)\n",
            "  Using cached nvidia_cuda_runtime_cu12-12.1.105-py3-none-manylinux1_x86_64.whl (823 kB)\n",
            "Collecting nvidia-cuda-cupti-cu12==12.1.105 (from torch->openai-whisper)\n",
            "  Using cached nvidia_cuda_cupti_cu12-12.1.105-py3-none-manylinux1_x86_64.whl (14.1 MB)\n",
            "Collecting nvidia-cudnn-cu12==8.9.2.26 (from torch->openai-whisper)\n",
            "  Using cached nvidia_cudnn_cu12-8.9.2.26-py3-none-manylinux1_x86_64.whl (731.7 MB)\n",
            "Collecting nvidia-cublas-cu12==12.1.3.1 (from torch->openai-whisper)\n",
            "  Using cached nvidia_cublas_cu12-12.1.3.1-py3-none-manylinux1_x86_64.whl (410.6 MB)\n",
            "Collecting nvidia-cufft-cu12==11.0.2.54 (from torch->openai-whisper)\n",
            "  Using cached nvidia_cufft_cu12-11.0.2.54-py3-none-manylinux1_x86_64.whl (121.6 MB)\n",
            "Collecting nvidia-curand-cu12==10.3.2.106 (from torch->openai-whisper)\n",
            "  Using cached nvidia_curand_cu12-10.3.2.106-py3-none-manylinux1_x86_64.whl (56.5 MB)\n",
            "Collecting nvidia-cusolver-cu12==11.4.5.107 (from torch->openai-whisper)\n",
            "  Using cached nvidia_cusolver_cu12-11.4.5.107-py3-none-manylinux1_x86_64.whl (124.2 MB)\n",
            "Collecting nvidia-cusparse-cu12==12.1.0.106 (from torch->openai-whisper)\n",
            "  Using cached nvidia_cusparse_cu12-12.1.0.106-py3-none-manylinux1_x86_64.whl (196.0 MB)\n",
            "Collecting nvidia-nccl-cu12==2.20.5 (from torch->openai-whisper)\n",
            "  Using cached nvidia_nccl_cu12-2.20.5-py3-none-manylinux2014_x86_64.whl (176.2 MB)\n",
            "Collecting nvidia-nvtx-cu12==12.1.105 (from torch->openai-whisper)\n",
            "  Using cached nvidia_nvtx_cu12-12.1.105-py3-none-manylinux1_x86_64.whl (99 kB)\n",
            "Collecting nvidia-nvjitlink-cu12 (from nvidia-cusolver-cu12==11.4.5.107->torch->openai-whisper)\n",
            "  Downloading nvidia_nvjitlink_cu12-12.5.82-py3-none-manylinux2014_x86_64.whl (21.3 MB)\n",
            "\u001b[2K     \u001b[90m━━━━━━━━━━━━━━━━━━━━━━━━━━━━━━━━━━━━━━━━\u001b[0m \u001b[32m21.3/21.3 MB\u001b[0m \u001b[31m68.6 MB/s\u001b[0m eta \u001b[36m0:00:00\u001b[0m\n",
            "\u001b[?25hRequirement already satisfied: charset-normalizer<4,>=2 in /usr/local/lib/python3.10/dist-packages (from requests>=2.26.0->tiktoken->openai-whisper) (3.3.2)\n",
            "Requirement already satisfied: idna<4,>=2.5 in /usr/local/lib/python3.10/dist-packages (from requests>=2.26.0->tiktoken->openai-whisper) (3.7)\n",
            "Requirement already satisfied: urllib3<3,>=1.21.1 in /usr/local/lib/python3.10/dist-packages (from requests>=2.26.0->tiktoken->openai-whisper) (2.0.7)\n",
            "Requirement already satisfied: certifi>=2017.4.17 in /usr/local/lib/python3.10/dist-packages (from requests>=2.26.0->tiktoken->openai-whisper) (2024.7.4)\n",
            "Requirement already satisfied: MarkupSafe>=2.0 in /usr/local/lib/python3.10/dist-packages (from jinja2->torch->openai-whisper) (2.1.5)\n",
            "Requirement already satisfied: mpmath<1.4,>=1.1.0 in /usr/local/lib/python3.10/dist-packages (from sympy->torch->openai-whisper) (1.3.0)\n",
            "Building wheels for collected packages: openai-whisper\n",
            "  Building wheel for openai-whisper (pyproject.toml) ... \u001b[?25l\u001b[?25hdone\n",
            "  Created wheel for openai-whisper: filename=openai_whisper-20231117-py3-none-any.whl size=801358 sha256=d917039443aed159f33b23a0389c4ea75e557abbf494605e3ebfa920f0822db7\n",
            "  Stored in directory: /root/.cache/pip/wheels/d0/85/e1/9361b4cbea7dd4b7f6702fa4c3afc94877952eeb2b62f45f56\n",
            "Successfully built openai-whisper\n",
            "Installing collected packages: nvidia-nvtx-cu12, nvidia-nvjitlink-cu12, nvidia-nccl-cu12, nvidia-curand-cu12, nvidia-cufft-cu12, nvidia-cuda-runtime-cu12, nvidia-cuda-nvrtc-cu12, nvidia-cuda-cupti-cu12, nvidia-cublas-cu12, tiktoken, nvidia-cusparse-cu12, nvidia-cudnn-cu12, nvidia-cusolver-cu12, openai-whisper\n",
            "Successfully installed nvidia-cublas-cu12-12.1.3.1 nvidia-cuda-cupti-cu12-12.1.105 nvidia-cuda-nvrtc-cu12-12.1.105 nvidia-cuda-runtime-cu12-12.1.105 nvidia-cudnn-cu12-8.9.2.26 nvidia-cufft-cu12-11.0.2.54 nvidia-curand-cu12-10.3.2.106 nvidia-cusolver-cu12-11.4.5.107 nvidia-cusparse-cu12-12.1.0.106 nvidia-nccl-cu12-2.20.5 nvidia-nvjitlink-cu12-12.5.82 nvidia-nvtx-cu12-12.1.105 openai-whisper-20231117 tiktoken-0.7.0\n",
            "Requirement already satisfied: google-generativeai in /usr/local/lib/python3.10/dist-packages (0.5.4)\n",
            "Requirement already satisfied: google-ai-generativelanguage==0.6.4 in /usr/local/lib/python3.10/dist-packages (from google-generativeai) (0.6.4)\n",
            "Requirement already satisfied: google-api-core in /usr/local/lib/python3.10/dist-packages (from google-generativeai) (2.16.2)\n",
            "Requirement already satisfied: google-api-python-client in /usr/local/lib/python3.10/dist-packages (from google-generativeai) (2.84.0)\n",
            "Requirement already satisfied: google-auth>=2.15.0 in /usr/local/lib/python3.10/dist-packages (from google-generativeai) (2.27.0)\n",
            "Requirement already satisfied: protobuf in /usr/local/lib/python3.10/dist-packages (from google-generativeai) (3.20.3)\n",
            "Requirement already satisfied: pydantic in /usr/local/lib/python3.10/dist-packages (from google-generativeai) (2.8.2)\n",
            "Requirement already satisfied: tqdm in /usr/local/lib/python3.10/dist-packages (from google-generativeai) (4.66.4)\n",
            "Requirement already satisfied: typing-extensions in /usr/local/lib/python3.10/dist-packages (from google-generativeai) (4.12.2)\n",
            "Requirement already satisfied: proto-plus<2.0.0dev,>=1.22.3 in /usr/local/lib/python3.10/dist-packages (from google-ai-generativelanguage==0.6.4->google-generativeai) (1.24.0)\n",
            "Requirement already satisfied: cachetools<6.0,>=2.0.0 in /usr/local/lib/python3.10/dist-packages (from google-auth>=2.15.0->google-generativeai) (5.3.3)\n",
            "Requirement already satisfied: pyasn1-modules>=0.2.1 in /usr/local/lib/python3.10/dist-packages (from google-auth>=2.15.0->google-generativeai) (0.4.0)\n",
            "Requirement already satisfied: rsa<5,>=3.1.4 in /usr/local/lib/python3.10/dist-packages (from google-auth>=2.15.0->google-generativeai) (4.9)\n",
            "Requirement already satisfied: googleapis-common-protos<2.0.dev0,>=1.56.2 in /usr/local/lib/python3.10/dist-packages (from google-api-core->google-generativeai) (1.63.2)\n",
            "Requirement already satisfied: requests<3.0.0.dev0,>=2.18.0 in /usr/local/lib/python3.10/dist-packages (from google-api-core->google-generativeai) (2.31.0)\n",
            "Requirement already satisfied: httplib2<1dev,>=0.15.0 in /usr/local/lib/python3.10/dist-packages (from google-api-python-client->google-generativeai) (0.22.0)\n",
            "Requirement already satisfied: google-auth-httplib2>=0.1.0 in /usr/local/lib/python3.10/dist-packages (from google-api-python-client->google-generativeai) (0.1.1)\n",
            "Requirement already satisfied: uritemplate<5,>=3.0.1 in /usr/local/lib/python3.10/dist-packages (from google-api-python-client->google-generativeai) (4.1.1)\n",
            "Requirement already satisfied: annotated-types>=0.4.0 in /usr/local/lib/python3.10/dist-packages (from pydantic->google-generativeai) (0.7.0)\n",
            "Requirement already satisfied: pydantic-core==2.20.1 in /usr/local/lib/python3.10/dist-packages (from pydantic->google-generativeai) (2.20.1)\n",
            "Requirement already satisfied: grpcio<2.0dev,>=1.33.2 in /usr/local/lib/python3.10/dist-packages (from google-api-core->google-generativeai) (1.64.1)\n",
            "Requirement already satisfied: grpcio-status<2.0.dev0,>=1.33.2 in /usr/local/lib/python3.10/dist-packages (from google-api-core->google-generativeai) (1.48.2)\n",
            "Requirement already satisfied: pyparsing!=3.0.0,!=3.0.1,!=3.0.2,!=3.0.3,<4,>=2.4.2 in /usr/local/lib/python3.10/dist-packages (from httplib2<1dev,>=0.15.0->google-api-python-client->google-generativeai) (3.1.2)\n",
            "Requirement already satisfied: pyasn1<0.7.0,>=0.4.6 in /usr/local/lib/python3.10/dist-packages (from pyasn1-modules>=0.2.1->google-auth>=2.15.0->google-generativeai) (0.6.0)\n",
            "Requirement already satisfied: charset-normalizer<4,>=2 in /usr/local/lib/python3.10/dist-packages (from requests<3.0.0.dev0,>=2.18.0->google-api-core->google-generativeai) (3.3.2)\n",
            "Requirement already satisfied: idna<4,>=2.5 in /usr/local/lib/python3.10/dist-packages (from requests<3.0.0.dev0,>=2.18.0->google-api-core->google-generativeai) (3.7)\n",
            "Requirement already satisfied: urllib3<3,>=1.21.1 in /usr/local/lib/python3.10/dist-packages (from requests<3.0.0.dev0,>=2.18.0->google-api-core->google-generativeai) (2.0.7)\n",
            "Requirement already satisfied: certifi>=2017.4.17 in /usr/local/lib/python3.10/dist-packages (from requests<3.0.0.dev0,>=2.18.0->google-api-core->google-generativeai) (2024.7.4)\n",
            "Collecting yt-dlp\n",
            "  Downloading yt_dlp-2024.7.9-py3-none-any.whl (3.1 MB)\n",
            "\u001b[2K     \u001b[90m━━━━━━━━━━━━━━━━━━━━━━━━━━━━━━━━━━━━━━━━\u001b[0m \u001b[32m3.1/3.1 MB\u001b[0m \u001b[31m18.8 MB/s\u001b[0m eta \u001b[36m0:00:00\u001b[0m\n",
            "\u001b[?25hCollecting brotli (from yt-dlp)\n",
            "  Downloading Brotli-1.1.0-cp310-cp310-manylinux_2_5_x86_64.manylinux1_x86_64.manylinux_2_12_x86_64.manylinux2010_x86_64.whl (3.0 MB)\n",
            "\u001b[2K     \u001b[90m━━━━━━━━━━━━━━━━━━━━━━━━━━━━━━━━━━━━━━━━\u001b[0m \u001b[32m3.0/3.0 MB\u001b[0m \u001b[31m45.4 MB/s\u001b[0m eta \u001b[36m0:00:00\u001b[0m\n",
            "\u001b[?25hRequirement already satisfied: certifi in /usr/local/lib/python3.10/dist-packages (from yt-dlp) (2024.7.4)\n",
            "Collecting mutagen (from yt-dlp)\n",
            "  Downloading mutagen-1.47.0-py3-none-any.whl (194 kB)\n",
            "\u001b[2K     \u001b[90m━━━━━━━━━━━━━━━━━━━━━━━━━━━━━━━━━━━━━━━━\u001b[0m \u001b[32m194.4/194.4 kB\u001b[0m \u001b[31m28.1 MB/s\u001b[0m eta \u001b[36m0:00:00\u001b[0m\n",
            "\u001b[?25hCollecting pycryptodomex (from yt-dlp)\n",
            "  Downloading pycryptodomex-3.20.0-cp35-abi3-manylinux_2_17_x86_64.manylinux2014_x86_64.whl (2.1 MB)\n",
            "\u001b[2K     \u001b[90m━━━━━━━━━━━━━━━━━━━━━━━━━━━━━━━━━━━━━━━━\u001b[0m \u001b[32m2.1/2.1 MB\u001b[0m \u001b[31m54.4 MB/s\u001b[0m eta \u001b[36m0:00:00\u001b[0m\n",
            "\u001b[?25hCollecting requests<3,>=2.32.2 (from yt-dlp)\n",
            "  Downloading requests-2.32.3-py3-none-any.whl (64 kB)\n",
            "\u001b[2K     \u001b[90m━━━━━━━━━━━━━━━━━━━━━━━━━━━━━━━━━━━━━━━━\u001b[0m \u001b[32m64.9/64.9 kB\u001b[0m \u001b[31m9.8 MB/s\u001b[0m eta \u001b[36m0:00:00\u001b[0m\n",
            "\u001b[?25hRequirement already satisfied: urllib3<3,>=1.26.17 in /usr/local/lib/python3.10/dist-packages (from yt-dlp) (2.0.7)\n",
            "Collecting websockets>=12.0 (from yt-dlp)\n",
            "  Downloading websockets-12.0-cp310-cp310-manylinux_2_5_x86_64.manylinux1_x86_64.manylinux_2_17_x86_64.manylinux2014_x86_64.whl (130 kB)\n",
            "\u001b[2K     \u001b[90m━━━━━━━━━━━━━━━━━━━━━━━━━━━━━━━━━━━━━━━━\u001b[0m \u001b[32m130.2/130.2 kB\u001b[0m \u001b[31m16.9 MB/s\u001b[0m eta \u001b[36m0:00:00\u001b[0m\n",
            "\u001b[?25hRequirement already satisfied: charset-normalizer<4,>=2 in /usr/local/lib/python3.10/dist-packages (from requests<3,>=2.32.2->yt-dlp) (3.3.2)\n",
            "Requirement already satisfied: idna<4,>=2.5 in /usr/local/lib/python3.10/dist-packages (from requests<3,>=2.32.2->yt-dlp) (3.7)\n",
            "Installing collected packages: brotli, websockets, requests, pycryptodomex, mutagen, yt-dlp\n",
            "  Attempting uninstall: requests\n",
            "    Found existing installation: requests 2.31.0\n",
            "    Uninstalling requests-2.31.0:\n",
            "      Successfully uninstalled requests-2.31.0\n",
            "\u001b[31mERROR: pip's dependency resolver does not currently take into account all the packages that are installed. This behaviour is the source of the following dependency conflicts.\n",
            "google-colab 1.0.0 requires requests==2.31.0, but you have requests 2.32.3 which is incompatible.\u001b[0m\u001b[31m\n",
            "\u001b[0mSuccessfully installed brotli-1.1.0 mutagen-1.47.0 pycryptodomex-3.20.0 requests-2.32.3 websockets-12.0 yt-dlp-2024.7.9\n"
          ]
        }
      ],
      "source": [
        "!pip install youtube-transcript-api\n",
        "!pip install openai\n",
        "!pip install pytube\n",
        "!pip install openai-whisper\n",
        "!pip install google-generativeai\n",
        "!pip install yt-dlp"
      ]
    },
    {
      "cell_type": "markdown",
      "source": [
        "# **Import the modules**"
      ],
      "metadata": {
        "id": "oCrfAIm1qi6p"
      }
    },
    {
      "cell_type": "code",
      "source": [
        "import google.generativeai as genai\n",
        "from openai import OpenAI\n",
        "import os\n",
        "from pytube import YouTube\n",
        "from youtube_transcript_api import YouTubeTranscriptApi"
      ],
      "metadata": {
        "id": "_9tV_-Lhqg9V"
      },
      "execution_count": 1,
      "outputs": []
    },
    {
      "cell_type": "markdown",
      "source": [
        "# **Configuring the Gemini API**"
      ],
      "metadata": {
        "id": "pWFi1AOtyPZH"
      }
    },
    {
      "cell_type": "code",
      "source": [
        "# Configure i.e loading the API Key for communication.\n",
        "genai.configure(api_key=\"<API_KEY>\")"
      ],
      "metadata": {
        "id": "goYoEAZ3rFet"
      },
      "execution_count": 2,
      "outputs": []
    },
    {
      "cell_type": "markdown",
      "source": [
        "# **Configuring the OpenAI API**"
      ],
      "metadata": {
        "id": "rmEeGt7BySjV"
      }
    },
    {
      "cell_type": "code",
      "source": [
        "import openai\n",
        "openai.api_key = \"<API_KEY>\"\n",
        "client = openai.OpenAI(api_key=openai.api_key) # Pass the API key to the constructor"
      ],
      "metadata": {
        "id": "8Xjey_pMr2mS"
      },
      "execution_count": 3,
      "outputs": []
    },
    {
      "cell_type": "markdown",
      "source": [
        "# **Conversion of Video into Audio file for Text conversion using OpenAI**"
      ],
      "metadata": {
        "id": "mec1THHYyVVG"
      }
    },
    {
      "cell_type": "code",
      "source": [
        "import os\n",
        "import subprocess\n",
        "\n",
        "def download_and_rename_audio(url, new_name=\"audio1\"):\n",
        "    # Step 1: Download the video and extract audio\n",
        "    command = ['yt-dlp', '--extract-audio', '--audio-format', 'mp3', '--output', f'{new_name}.%(ext)s', url]\n",
        "    subprocess.run(command, check=True)\n",
        "\n",
        "    # Step 2: Find the downloaded audio file\n",
        "    filenames = os.listdir('.')\n",
        "    old_path = None\n",
        "    for filename in filenames:\n",
        "        if filename.startswith(new_name) and filename.endswith('.mp3'):\n",
        "            old_path = filename\n",
        "            break\n",
        "\n",
        "    if old_path is None:\n",
        "        print(\"Error: No downloaded audio file found.\")\n",
        "        return None\n",
        "\n",
        "    # Step 3: Store the new path\n",
        "    new_file_path = os.path.join('.', old_path)\n",
        "    print(f\"New file path: {new_file_path}\")\n",
        "    return new_file_path"
      ],
      "metadata": {
        "id": "De8tXaZguSz7"
      },
      "execution_count": 4,
      "outputs": []
    },
    {
      "cell_type": "markdown",
      "source": [
        "# **Getting the Transcript of the video provided**"
      ],
      "metadata": {
        "id": "iZwA0MCfyduP"
      }
    },
    {
      "cell_type": "code",
      "source": [
        "!pip install yt-dlp"
      ],
      "metadata": {
        "colab": {
          "base_uri": "https://localhost:8080/"
        },
        "id": "EOs0_NYt_8S0",
        "outputId": "f828f3b1-e50b-4e4e-f993-0daed6f53ea2"
      },
      "execution_count": 7,
      "outputs": [
        {
          "output_type": "stream",
          "name": "stdout",
          "text": [
            "Requirement already satisfied: yt-dlp in /usr/local/lib/python3.10/dist-packages (2024.7.9)\n",
            "Requirement already satisfied: brotli in /usr/local/lib/python3.10/dist-packages (from yt-dlp) (1.1.0)\n",
            "Requirement already satisfied: certifi in /usr/local/lib/python3.10/dist-packages (from yt-dlp) (2024.7.4)\n",
            "Requirement already satisfied: mutagen in /usr/local/lib/python3.10/dist-packages (from yt-dlp) (1.47.0)\n",
            "Requirement already satisfied: pycryptodomex in /usr/local/lib/python3.10/dist-packages (from yt-dlp) (3.20.0)\n",
            "Requirement already satisfied: requests<3,>=2.32.2 in /usr/local/lib/python3.10/dist-packages (from yt-dlp) (2.32.3)\n",
            "Requirement already satisfied: urllib3<3,>=1.26.17 in /usr/local/lib/python3.10/dist-packages (from yt-dlp) (2.0.7)\n",
            "Requirement already satisfied: websockets>=12.0 in /usr/local/lib/python3.10/dist-packages (from yt-dlp) (12.0)\n",
            "Requirement already satisfied: charset-normalizer<4,>=2 in /usr/local/lib/python3.10/dist-packages (from requests<3,>=2.32.2->yt-dlp) (3.3.2)\n",
            "Requirement already satisfied: idna<4,>=2.5 in /usr/local/lib/python3.10/dist-packages (from requests<3,>=2.32.2->yt-dlp) (3.7)\n"
          ]
        }
      ]
    },
    {
      "cell_type": "code",
      "source": [
        "def get_transcript_text(video_id):\n",
        "    try:\n",
        "        # Retrieve the transcript\n",
        "        transcript = YouTubeTranscriptApi.get_transcript('en', video_id)\n",
        "\n",
        "        # Extract and print only the text\n",
        "        transcript_text = ' '.join([entry['text'] for entry in transcript])\n",
        "        return transcript_text\n",
        "    except Exception as e:\n",
        "        # print(f\"Error: {e}\")\n",
        "        print(\"Error Occured while getting transcript\")\n",
        "        print(\"Using OpenAI to convert the YouTube video into text\")\n",
        "        video_url = f\"https://www.youtube.com/watch?v={video_id}\"\n",
        "\n",
        "        # Download the video\n",
        "        download_and_rename_audio(video_url)\n",
        "        # print(\"The Path of downloaded file is /content/vid1.mp4\")"
      ],
      "metadata": {
        "id": "MIC8tngbrKQB"
      },
      "execution_count": 8,
      "outputs": []
    },
    {
      "cell_type": "markdown",
      "source": [
        "# **Audio To Text using OpenAI**"
      ],
      "metadata": {
        "id": "3ipGcBTDy8fb"
      }
    },
    {
      "cell_type": "code",
      "source": [
        "get_transcript_text(\"_Ki4bS4V2gQ\")"
      ],
      "metadata": {
        "colab": {
          "base_uri": "https://localhost:8080/"
        },
        "id": "DU605FQmzNdZ",
        "outputId": "84ddfa1b-4600-4cf9-b58a-fde3bf664e2c"
      },
      "execution_count": 9,
      "outputs": [
        {
          "output_type": "stream",
          "name": "stdout",
          "text": [
            "Error Occured while getting transcript\n",
            "Using OpenAI to convert the YouTube video into text\n",
            "New file path: ./audio1.mp3\n"
          ]
        }
      ]
    },
    {
      "cell_type": "code",
      "source": [
        "# !pip install git+https://github.com/openai/whisper.git\n",
        "# !apt update && apt install -y ffmpeg\n",
        "# !apt update && apt install -y ffmpeg"
      ],
      "metadata": {
        "id": "gPZHMpU6RRV3"
      },
      "execution_count": 8,
      "outputs": []
    },
    {
      "cell_type": "code",
      "source": [
        "import whisper\n",
        "import time\n",
        "\n",
        "# Load the smallest Whisper model for faster processing\n",
        "model = whisper.load_model(\"tiny\")\n",
        "\n",
        "# Path to the audio file\n",
        "audio_file_path = \"/content/audio1.mp3\"\n",
        "\n",
        "# Start timing\n",
        "start_time = time.time()\n",
        "\n",
        "# Transcribe the audio file\n",
        "result = model.transcribe(audio_file_path)\n",
        "\n",
        "# End timing\n",
        "end_time = time.time()\n",
        "\n",
        "# Print the transcription and processing time\n",
        "print(\"Transcription:\", result[\"text\"])\n",
        "print(\"Processing time:\", end_time - start_time, \"seconds\")"
      ],
      "metadata": {
        "colab": {
          "base_uri": "https://localhost:8080/"
        },
        "id": "Ie2hmmDFyiZP",
        "outputId": "ccb14ed9-542b-4441-c84d-f1594ef92c77"
      },
      "execution_count": 10,
      "outputs": [
        {
          "output_type": "stream",
          "name": "stdout",
          "text": [
            "Transcription:  This is the new Nothing CMF phone one and I don't say this very often but I think this is a genius product. CMF is a new budget sub brand of the company nothing so we're talking a phone that costs 200 pounds or 250 dollars and it's actually a little bit crazy what these guys have just pulled off for that price. I mean the first thing I'll notice is this doesn't feel like just a single product launch. This is an entire ecosystem and it's really fascinating one. So let's get the phone out first. There's a Lanyard which is not something you tend to see launch with a phone. One case two cases no three cases a card wallet I guess that's for the back of the phone. There's a stand the Buds Pro 2 and then the watch Pro 2. It all feels very new because we've seen plenty of budget phones before but what you don't often get is a budget accessory ecosystem like this all designed to work specifically around that budget phone as the centerpiece. Everything has well on one hand a slightly cheap thin plastic key feel to it but then on the other hand it's all really tastefully designed. It kind of feels like all of these products have had high end thought and care put into them even if the physical materials and the finish are more basic. So like these are the CMF Buds 2 Pro and even though they're very light and clearly not a luxury item they still feel sophisticated and intentional in their design. Not like a cheap version of something that the company would rather you buy and then the watch Pro 2. Yeah it's slick clean. You never want to watch to go too crazy on design because then it won't match your outfits. So this feels like a pretty appropriate level to me. Right let's get into this phone it's a thin package so we all know what that means. Okay so the device is on top and below that is a generic white USB C to C cable which you should be able to use to transfer everything from the old phone and then an orange sim ejector. Right heel time. And right off the bat it's pretty clear that this is not your normal phone and it's not just that it looks different because you know these cases that I showed you. These are actually back plates. So if you look inside the packaging they came in you'll see a bunch of other stuff like this tool which is both a sim ejector and a screwdriver that allows you to take off these four screws on the back of your phone after which you unwind this circular piece and you're played pops off and this is a pretty big deal for a number of reasons. One that repairing this phone is going to be a lot easier and I hope cheaper than almost any other phone but that part's not confirmed. To that you don't need a case anymore you can actually use your phone naked, guilt-free knowing that if you ever do do something stupid you can just swap the back plate out for, I'm not even that much money, 29 pounds is what they're charging for these kits including the tools. The third thing is it means you can mix a match. So I really like this orange back. It swaps out the slightly cheap feeling very scratchable plastic for a more grippy, less scratchable vegan leather type finish and it's bright orange so let's put it on. But then I'm looking at the orange sim tray, the orange circle screw thing and the silver screws that come with it and thinking silver screws are pretty nice but for the other parts I think I prefer the black ones so I have just created my own two-tone finish on my phone and that's actually sick but the best part of this is that nothing has actually gone one step further to actually create an ecosystem around these weird screws and I don't even know what to call this. Now on this is the circle spinny thing. So if I want a phone stand for example unscrew your circle spinny thing and screw this down then and yeah the standard self isn't anything particularly special. It's not breaking new grounds in material science but if you decide that you want a phone stand then what better way to have a phone stand that doesn't need you to apply a sticky pad onto your case but instead physically screws into your device itself. It feels way more secure and also way more intentional like your stand was designed specifically for your phone. You want a lanyard same thing and I feel very confident that it's going to support the phone because it's bolted to it or like there's no magsafe wireless charging baked into this phone right you can't just slap one of those Apple wallets onto the back of this and expect it to hold but screw this CMF wallet enclosure in like this that's very secure and now you have your magnet to be able to attach your wallet on top of and this thing can hold like three cards this whole thing reminds me very much of a mentality that I discovered in India it's called jagad it means uh frugal innovation inventive ways to use what you have to achieve things that would normally require more resources because just by properly thinking this through before building it this company has genuinely achieved a really high level of functionality without making it cost them any more to build this thing you're actually getting something here but you can't get just by paying through the nose for a higher end device like nothing has managed to make something that gives their $250 phone a tangible leg up over my $1200 phone and that is absolutely amazing I'm mind this kind of wearing other possibilities like I'm just thinking as an example what if you use this screw and this screw to add a permanent lens attachment to your cameras you know instead of those ones that you have to clip on and anything more than a light breeze will remove for you now I would personally be a little bit worried about things getting inside they have managed to get an IPX true rating which is basically very minor water protection and nothing for dust and I think it's somewhat telling that that's the max rating they could get because yeah anything designed to be taken apart this easily is obviously not particularly well sealed and also as cool as the circles of anything is I do find it a little bit uncomfortable just because it sticks out but let me be very clear all in all for the price this is one of the best designed phones I've ever seen which I'm only half surprised by because the entire name of this sub brand CMF very literally stands for colors materials and finish it's actually the rest of the phone that surprised me more so let's talk about it if you're winning with design at $250 then where are you losing well it's not the screen this is a 120 Hertz adaptive ammo led full HD plus display it's very smooth it's sharp it's punchy this thing can display HDR 10 plus content which is a luxury that you could only get by paying over a thousand dollars like literally two years ago they've pre-installed a screen protector which I always rate and this right here is an in-display optical fingerprint scanner which is well it's fine it works even the brightness which is one of the first things to go is actually pretty good the company's advertising a 2000 net peak brightness but you don't need to achieve that in very very specific situations more typically this thing can go up to a max of 700 nets in normal brightness and then 1200 nets in ultra bright outdoor environments which means that in the absolute worst worst case scenarios you might have to squint a little bit but you'll pretty much never struggle to see it the only thing I would complain about and I'm being quite nitpicky here but the bottom bezel is slightly thicker than the other bezels and this is particularly interesting because I remember having a conversation with Carl Pay the CEO when he launched the nothing phone too he was basically explaining how much extra effort cost and engineering is required to just push this bottom lip down a tiny little bit even it all out and he made the decision to still do that on those more expensive nothing vence but now we're looking at a phone which is basically half of that cost I guess he's decided to let some of those design ideologies slip a little bit fair compromise though I still can't think of a better screen than this for 250 dollars so sure do you compromise on battery then no the phone as a 5000 million power cell the chip is actually based on the very efficient for an enemy to process the software skin is very light no thanks to the thousands of apps I've installed on top of it and I also noticed they set the phone to dark mode by default with all black icons which is good because this ammo led display will turn off anywhere it's displaying black pixels to the point where there is no doubt in my mind that I will be gracefully carried through the day by this thing like if I just pull up my battery settings now it's saying I've had four hours of screen on time and I'm still on 60% battery so I'm currently on track for this thing lasting 10 hours of screen on time on this charge which am I ever going to need more than that? Only weird thing is even though the phone is stupidly easy to take apart you still can't actually swap the battery out yourself if you decided that you're existing one is getting old which feels like a missed opportunity to me and the charging situation is okay there's no wireless charging and the wire charging is up to a pretty mediocre 33 watts but since you don't get the charging grip to achieve that wattage I imagine most people will be operating under that but the important thing is the battery life and the battery life they have nailed and you're not compromising with the software either this phone runs nothing OS 2.6 based on Android 14 and I love the software skin it's light it doesn't interfere too much with what stock Android already does well but where it does it's little thoughtful things to either make your phone more aesthetic or make it less distracting there's an AI generator tool for wallpapers which is quite limited in options it would be nice if you could at least specify the colour you wanted but equally it does turn out reliably good results they never seem to look too AI generated if you're not mean and you're getting that with two years of major Android updates and three years of security updates which is no doubt a big part of where money is saved compared to the more expensive nothing for two for example it's not a bad level of support it's pretty standard at this tier it's just it's nothing spectacular but it's the chip inside this phone that for me was the biggest wildcard I had no idea what to expect the phone's got six gigabytes of RAM on the base model and 128 gigs of storage interestingly expandable storage with up to a two terabyte SD card and it's paired with a media tech chip set the Dimensity 7300 and the reason that I didn't know what to expect is well at least on paper the Dimensity 7300 is actually less powerful than the 7200 which someone please explain the math to me but anyway this is what that looks like in practice so this is the latest game from Hoyovers the company who made Genshin Impact and providing them on game mode which you can access by just swiping in from the left I can play it at a pretty acceptable frame rate hovering up mostly high settings but even though there is a liquid cooling system on the inside I have noticed the performance declining with prolonged gaming so if I don't want it to get lag here then I'll get a more stable experience if I go down to medium settings so if you factor in that this is as demanding as mobile games get it then there isn't anything that you won't be able to play but you will have to make noticeable compromises to help some games look and on a day-to-day basis it doesn't feel slow but it also doesn't feel particularly fast the phone is mostly smooth with the occasional jitter every now and again but the thing that I noticed more is every time you click something or open an app or try to load something it takes just a little bit of time it's not like you're waiting around but there's just a fraction of thinking time with each action would I have expected anything different for a phone at this price no not really it's actually just that most of the phone is so good that it makes you forget how much it costs and I'm actually in my mind benchmarking it against much more expensive prices audio is probably the most obvious downgrade I noticed it's just a very simple mono speaker at the bottom you don't get any kind of stereo effect using the earpiece as a second speaker and you lose a little bit of the sophistication of your music when listening through it but I also wouldn't go as far as to say that it's a bad speaker and it is actually rather loud so then what this really came down to for me was the cameras if nothing managed to do all of what they've done and also smash it with the cameras then this thing was going straight to the whole of fame but equally this is where I was expecting a big noticeable dip in the phone experience so I slowly approached that camera button fully ready to lose a chunk of respect for this device do you know what these mad lads have kind of done it so the phone has two cameras but it's a little bit of weird one because the top camera is actually just on a sister camera you can hold your finger over it and still perform basically every single function of your phone's camera the only thing that you can't do without it is add the portrait mode effect to your shots so if I take this photo while covering the lens it'll look like this if I take the same photo after having removed my finger it will look like this what are those photos look like well very nicely detailed you have plenty of room to zoom in further and they will still look sharp the wide aperture and decent sensor size gets you some nice foreground background separation and mostly flawless high dynamic range I say mostly just because it's absolutely spot on for big scenes where there's an overexposed sky but it often misses the small things like a bright light bulb in your shop that needs controlling and you know what the video has no right to look this decent the phone shoots 4k footage at 30 frames per second and it doesn't feel particularly noisy which you might expect to do since this phone's chip doesn't have the best image signal processor it doesn't feel massively unstable which you might expect to give that this camera has no optical image stabilisation and the focusing isn't jittery which you might expect to give that there's no laser order focus or anything close to it the hardware of these cameras is nothing special for the price but it's the attention to fine tuning what is there that's the reason that you can record footage like this now for me there are four things that I felt have been a bit lacking the color science it's perfectly fine with most flowers and objects but it's faces that it really struggles with it's not a bit small but side by side with a top headphone it becomes very clear how much of that super intelligent fine tuning that you might have come to expect that you're missing out on the portraits which feel pretty fine in isolation but again next to a top headphone it doesn't take a detective to see the subtle nuances being lost the zooming experience is pretty bad the fact that there's no dedicated zoom camera combined with the lack of AI intelligence to know what to do without it means that zooming in 10 times here really does feel that you just took a photo to a one times and blew it up 10 times it's not pretty and then finally there's no ultra wide camera and I can I can kind of see why because obviously they're not going to have a lot of spare budget to add in a good one and so adding in a cheap one just for the sake of it might make the overall camera feel worse but it is still a lacking feature the key thing to bear in mind though is compare this camera to any phone in its own price range and I would say it's at least as good I just want to make it clear what you're not getting so the long and short of it is the CMA phone one is maybe the most instantly recognizable phone I have ever used we've seen this formula before company launches a new sub brand company wants to generate hype for that sub brand so company makes the first offering in that sub brand particularly generous point being it might not stay this way but that doesn't change the fact that for what this is right now at this price it feels like a complete steel to me\n",
            "Processing time: 34.81712460517883 seconds\n"
          ]
        }
      ]
    },
    {
      "cell_type": "code",
      "source": [
        "result[\"text\"]"
      ],
      "metadata": {
        "id": "dMC2h64U82gI",
        "colab": {
          "base_uri": "https://localhost:8080/",
          "height": 191
        },
        "outputId": "6b176302-5925-4c97-ffe5-3f3d8adfd15c"
      },
      "execution_count": 11,
      "outputs": [
        {
          "output_type": "execute_result",
          "data": {
            "text/plain": [
              "\" This is the new Nothing CMF phone one and I don't say this very often but I think this is a genius product. CMF is a new budget sub brand of the company nothing so we're talking a phone that costs 200 pounds or 250 dollars and it's actually a little bit crazy what these guys have just pulled off for that price. I mean the first thing I'll notice is this doesn't feel like just a single product launch. This is an entire ecosystem and it's really fascinating one. So let's get the phone out first. There's a Lanyard which is not something you tend to see launch with a phone. One case two cases no three cases a card wallet I guess that's for the back of the phone. There's a stand the Buds Pro 2 and then the watch Pro 2. It all feels very new because we've seen plenty of budget phones before but what you don't often get is a budget accessory ecosystem like this all designed to work specifically around that budget phone as the centerpiece. Everything has well on one hand a slightly cheap thin plastic key feel to it but then on the other hand it's all really tastefully designed. It kind of feels like all of these products have had high end thought and care put into them even if the physical materials and the finish are more basic. So like these are the CMF Buds 2 Pro and even though they're very light and clearly not a luxury item they still feel sophisticated and intentional in their design. Not like a cheap version of something that the company would rather you buy and then the watch Pro 2. Yeah it's slick clean. You never want to watch to go too crazy on design because then it won't match your outfits. So this feels like a pretty appropriate level to me. Right let's get into this phone it's a thin package so we all know what that means. Okay so the device is on top and below that is a generic white USB C to C cable which you should be able to use to transfer everything from the old phone and then an orange sim ejector. Right heel time. And right off the bat it's pretty clear that this is not your normal phone and it's not just that it looks different because you know these cases that I showed you. These are actually back plates. So if you look inside the packaging they came in you'll see a bunch of other stuff like this tool which is both a sim ejector and a screwdriver that allows you to take off these four screws on the back of your phone after which you unwind this circular piece and you're played pops off and this is a pretty big deal for a number of reasons. One that repairing this phone is going to be a lot easier and I hope cheaper than almost any other phone but that part's not confirmed. To that you don't need a case anymore you can actually use your phone naked, guilt-free knowing that if you ever do do something stupid you can just swap the back plate out for, I'm not even that much money, 29 pounds is what they're charging for these kits including the tools. The third thing is it means you can mix a match. So I really like this orange back. It swaps out the slightly cheap feeling very scratchable plastic for a more grippy, less scratchable vegan leather type finish and it's bright orange so let's put it on. But then I'm looking at the orange sim tray, the orange circle screw thing and the silver screws that come with it and thinking silver screws are pretty nice but for the other parts I think I prefer the black ones so I have just created my own two-tone finish on my phone and that's actually sick but the best part of this is that nothing has actually gone one step further to actually create an ecosystem around these weird screws and I don't even know what to call this. Now on this is the circle spinny thing. So if I want a phone stand for example unscrew your circle spinny thing and screw this down then and yeah the standard self isn't anything particularly special. It's not breaking new grounds in material science but if you decide that you want a phone stand then what better way to have a phone stand that doesn't need you to apply a sticky pad onto your case but instead physically screws into your device itself. It feels way more secure and also way more intentional like your stand was designed specifically for your phone. You want a lanyard same thing and I feel very confident that it's going to support the phone because it's bolted to it or like there's no magsafe wireless charging baked into this phone right you can't just slap one of those Apple wallets onto the back of this and expect it to hold but screw this CMF wallet enclosure in like this that's very secure and now you have your magnet to be able to attach your wallet on top of and this thing can hold like three cards this whole thing reminds me very much of a mentality that I discovered in India it's called jagad it means uh frugal innovation inventive ways to use what you have to achieve things that would normally require more resources because just by properly thinking this through before building it this company has genuinely achieved a really high level of functionality without making it cost them any more to build this thing you're actually getting something here but you can't get just by paying through the nose for a higher end device like nothing has managed to make something that gives their $250 phone a tangible leg up over my $1200 phone and that is absolutely amazing I'm mind this kind of wearing other possibilities like I'm just thinking as an example what if you use this screw and this screw to add a permanent lens attachment to your cameras you know instead of those ones that you have to clip on and anything more than a light breeze will remove for you now I would personally be a little bit worried about things getting inside they have managed to get an IPX true rating which is basically very minor water protection and nothing for dust and I think it's somewhat telling that that's the max rating they could get because yeah anything designed to be taken apart this easily is obviously not particularly well sealed and also as cool as the circles of anything is I do find it a little bit uncomfortable just because it sticks out but let me be very clear all in all for the price this is one of the best designed phones I've ever seen which I'm only half surprised by because the entire name of this sub brand CMF very literally stands for colors materials and finish it's actually the rest of the phone that surprised me more so let's talk about it if you're winning with design at $250 then where are you losing well it's not the screen this is a 120 Hertz adaptive ammo led full HD plus display it's very smooth it's sharp it's punchy this thing can display HDR 10 plus content which is a luxury that you could only get by paying over a thousand dollars like literally two years ago they've pre-installed a screen protector which I always rate and this right here is an in-display optical fingerprint scanner which is well it's fine it works even the brightness which is one of the first things to go is actually pretty good the company's advertising a 2000 net peak brightness but you don't need to achieve that in very very specific situations more typically this thing can go up to a max of 700 nets in normal brightness and then 1200 nets in ultra bright outdoor environments which means that in the absolute worst worst case scenarios you might have to squint a little bit but you'll pretty much never struggle to see it the only thing I would complain about and I'm being quite nitpicky here but the bottom bezel is slightly thicker than the other bezels and this is particularly interesting because I remember having a conversation with Carl Pay the CEO when he launched the nothing phone too he was basically explaining how much extra effort cost and engineering is required to just push this bottom lip down a tiny little bit even it all out and he made the decision to still do that on those more expensive nothing vence but now we're looking at a phone which is basically half of that cost I guess he's decided to let some of those design ideologies slip a little bit fair compromise though I still can't think of a better screen than this for 250 dollars so sure do you compromise on battery then no the phone as a 5000 million power cell the chip is actually based on the very efficient for an enemy to process the software skin is very light no thanks to the thousands of apps I've installed on top of it and I also noticed they set the phone to dark mode by default with all black icons which is good because this ammo led display will turn off anywhere it's displaying black pixels to the point where there is no doubt in my mind that I will be gracefully carried through the day by this thing like if I just pull up my battery settings now it's saying I've had four hours of screen on time and I'm still on 60% battery so I'm currently on track for this thing lasting 10 hours of screen on time on this charge which am I ever going to need more than that? Only weird thing is even though the phone is stupidly easy to take apart you still can't actually swap the battery out yourself if you decided that you're existing one is getting old which feels like a missed opportunity to me and the charging situation is okay there's no wireless charging and the wire charging is up to a pretty mediocre 33 watts but since you don't get the charging grip to achieve that wattage I imagine most people will be operating under that but the important thing is the battery life and the battery life they have nailed and you're not compromising with the software either this phone runs nothing OS 2.6 based on Android 14 and I love the software skin it's light it doesn't interfere too much with what stock Android already does well but where it does it's little thoughtful things to either make your phone more aesthetic or make it less distracting there's an AI generator tool for wallpapers which is quite limited in options it would be nice if you could at least specify the colour you wanted but equally it does turn out reliably good results they never seem to look too AI generated if you're not mean and you're getting that with two years of major Android updates and three years of security updates which is no doubt a big part of where money is saved compared to the more expensive nothing for two for example it's not a bad level of support it's pretty standard at this tier it's just it's nothing spectacular but it's the chip inside this phone that for me was the biggest wildcard I had no idea what to expect the phone's got six gigabytes of RAM on the base model and 128 gigs of storage interestingly expandable storage with up to a two terabyte SD card and it's paired with a media tech chip set the Dimensity 7300 and the reason that I didn't know what to expect is well at least on paper the Dimensity 7300 is actually less powerful than the 7200 which someone please explain the math to me but anyway this is what that looks like in practice so this is the latest game from Hoyovers the company who made Genshin Impact and providing them on game mode which you can access by just swiping in from the left I can play it at a pretty acceptable frame rate hovering up mostly high settings but even though there is a liquid cooling system on the inside I have noticed the performance declining with prolonged gaming so if I don't want it to get lag here then I'll get a more stable experience if I go down to medium settings so if you factor in that this is as demanding as mobile games get it then there isn't anything that you won't be able to play but you will have to make noticeable compromises to help some games look and on a day-to-day basis it doesn't feel slow but it also doesn't feel particularly fast the phone is mostly smooth with the occasional jitter every now and again but the thing that I noticed more is every time you click something or open an app or try to load something it takes just a little bit of time it's not like you're waiting around but there's just a fraction of thinking time with each action would I have expected anything different for a phone at this price no not really it's actually just that most of the phone is so good that it makes you forget how much it costs and I'm actually in my mind benchmarking it against much more expensive prices audio is probably the most obvious downgrade I noticed it's just a very simple mono speaker at the bottom you don't get any kind of stereo effect using the earpiece as a second speaker and you lose a little bit of the sophistication of your music when listening through it but I also wouldn't go as far as to say that it's a bad speaker and it is actually rather loud so then what this really came down to for me was the cameras if nothing managed to do all of what they've done and also smash it with the cameras then this thing was going straight to the whole of fame but equally this is where I was expecting a big noticeable dip in the phone experience so I slowly approached that camera button fully ready to lose a chunk of respect for this device do you know what these mad lads have kind of done it so the phone has two cameras but it's a little bit of weird one because the top camera is actually just on a sister camera you can hold your finger over it and still perform basically every single function of your phone's camera the only thing that you can't do without it is add the portrait mode effect to your shots so if I take this photo while covering the lens it'll look like this if I take the same photo after having removed my finger it will look like this what are those photos look like well very nicely detailed you have plenty of room to zoom in further and they will still look sharp the wide aperture and decent sensor size gets you some nice foreground background separation and mostly flawless high dynamic range I say mostly just because it's absolutely spot on for big scenes where there's an overexposed sky but it often misses the small things like a bright light bulb in your shop that needs controlling and you know what the video has no right to look this decent the phone shoots 4k footage at 30 frames per second and it doesn't feel particularly noisy which you might expect to do since this phone's chip doesn't have the best image signal processor it doesn't feel massively unstable which you might expect to give that this camera has no optical image stabilisation and the focusing isn't jittery which you might expect to give that there's no laser order focus or anything close to it the hardware of these cameras is nothing special for the price but it's the attention to fine tuning what is there that's the reason that you can record footage like this now for me there are four things that I felt have been a bit lacking the color science it's perfectly fine with most flowers and objects but it's faces that it really struggles with it's not a bit small but side by side with a top headphone it becomes very clear how much of that super intelligent fine tuning that you might have come to expect that you're missing out on the portraits which feel pretty fine in isolation but again next to a top headphone it doesn't take a detective to see the subtle nuances being lost the zooming experience is pretty bad the fact that there's no dedicated zoom camera combined with the lack of AI intelligence to know what to do without it means that zooming in 10 times here really does feel that you just took a photo to a one times and blew it up 10 times it's not pretty and then finally there's no ultra wide camera and I can I can kind of see why because obviously they're not going to have a lot of spare budget to add in a good one and so adding in a cheap one just for the sake of it might make the overall camera feel worse but it is still a lacking feature the key thing to bear in mind though is compare this camera to any phone in its own price range and I would say it's at least as good I just want to make it clear what you're not getting so the long and short of it is the CMA phone one is maybe the most instantly recognizable phone I have ever used we've seen this formula before company launches a new sub brand company wants to generate hype for that sub brand so company makes the first offering in that sub brand particularly generous point being it might not stay this way but that doesn't change the fact that for what this is right now at this price it feels like a complete steel to me\""
            ],
            "application/vnd.google.colaboratory.intrinsic+json": {
              "type": "string"
            }
          },
          "metadata": {},
          "execution_count": 11
        }
      ]
    },
    {
      "cell_type": "markdown",
      "source": [
        "# **Using Gemini to get the Transcript**"
      ],
      "metadata": {
        "id": "pifqYE8TUf-i"
      }
    },
    {
      "cell_type": "code",
      "source": [
        "# import time\n",
        "\n",
        "# # Initialize a Gemini model appropriate for your use case.\n",
        "# model = genai.GenerativeModel(model_name=\"gemini-1.5-pro\")\n",
        "\n",
        "# # Create the prompt.\n",
        "# prompt = \"Generate a transcript of the speech.\"\n",
        "\n",
        "# # Path to the audio file\n",
        "# audio_file = genai.upload_file(path='/content/audio1.mp3')\n",
        "\n",
        "# # Start timing\n",
        "# start_time = time.time()\n",
        "\n",
        "# # Pass the prompt and the audio file to Gemini.\n",
        "# response = model.generate_content([prompt, audio_file])\n",
        "\n",
        "# # End timing\n",
        "# end_time = time.time()\n",
        "\n",
        "# # Print the transcript.\n",
        "# print(response.text)\n",
        "# print(\"Processing time:\", end_time - start_time, \"seconds\")\n",
        "import time\n",
        "\n",
        "# Initialize a Gemini model appropriate for your use case.\n",
        "model = genai.GenerativeModel(model_name=\"gemini-1.5-pro\")\n",
        "\n",
        "# Create the prompt.\n",
        "prompt = \"Generate a transcript of the speech.\"\n",
        "\n",
        "# Path to the audio file\n",
        "audio_file_path = '/content/audio1.mp3'\n",
        "\n",
        "# Check if the file exists\n",
        "import os\n",
        "if not os.path.exists(audio_file_path):\n",
        "    raise FileNotFoundError(f\"File not found: {audio_file_path}\")\n",
        "\n",
        "# Upload the audio file\n",
        "audio_file = genai.upload_file(path=audio_file_path)\n",
        "\n",
        "# Start timing\n",
        "start_time = time.time()\n",
        "\n",
        "# Pass the prompt and the audio file to Gemini.\n",
        "try:\n",
        "    response = model.generate_content([prompt, audio_file])\n",
        "\n",
        "    # End timing\n",
        "    end_time = time.time()\n",
        "\n",
        "    # Print the transcript.\n",
        "    print(response.text)\n",
        "    print(\"Processing time:\", end_time - start_time, \"seconds\")\n",
        "\n",
        "except Exception as e:\n",
        "    print(f\"An error occurred: {e}\")"
      ],
      "metadata": {
        "id": "hTV3Ocr1-1Q9",
        "colab": {
          "base_uri": "https://localhost:8080/",
          "height": 72
        },
        "outputId": "8b58ffdc-c519-49a8-af69-f52124cc6eb7"
      },
      "execution_count": 12,
      "outputs": [
        {
          "output_type": "stream",
          "name": "stderr",
          "text": [
            "ERROR:tornado.access:500 POST /v1beta/models/gemini-1.5-pro:generateContent?%24alt=json%3Benum-encoding%3Dint (127.0.0.1) 31566.23ms\n"
          ]
        },
        {
          "output_type": "stream",
          "name": "stdout",
          "text": [
            "An error occurred: 500 POST https://generativelanguage.googleapis.com/v1beta/models/gemini-1.5-pro:generateContent?%24alt=json%3Benum-encoding%3Dint: TypeError: NetworkError when attempting to fetch resource.\n"
          ]
        }
      ]
    },
    {
      "cell_type": "markdown",
      "source": [
        "# **Storing the transcript into KB**"
      ],
      "metadata": {
        "id": "cDAPs_HgBhRH"
      }
    },
    {
      "cell_type": "code",
      "source": [
        "knowledge_base = result[\"text\"]\n",
        "knowledge_base"
      ],
      "metadata": {
        "id": "yRn-kAhhU62S",
        "colab": {
          "base_uri": "https://localhost:8080/",
          "height": 191
        },
        "outputId": "4134f98b-a7e6-4d8a-a007-cf3ecc5e005e"
      },
      "execution_count": 13,
      "outputs": [
        {
          "output_type": "execute_result",
          "data": {
            "text/plain": [
              "\" This is the new Nothing CMF phone one and I don't say this very often but I think this is a genius product. CMF is a new budget sub brand of the company nothing so we're talking a phone that costs 200 pounds or 250 dollars and it's actually a little bit crazy what these guys have just pulled off for that price. I mean the first thing I'll notice is this doesn't feel like just a single product launch. This is an entire ecosystem and it's really fascinating one. So let's get the phone out first. There's a Lanyard which is not something you tend to see launch with a phone. One case two cases no three cases a card wallet I guess that's for the back of the phone. There's a stand the Buds Pro 2 and then the watch Pro 2. It all feels very new because we've seen plenty of budget phones before but what you don't often get is a budget accessory ecosystem like this all designed to work specifically around that budget phone as the centerpiece. Everything has well on one hand a slightly cheap thin plastic key feel to it but then on the other hand it's all really tastefully designed. It kind of feels like all of these products have had high end thought and care put into them even if the physical materials and the finish are more basic. So like these are the CMF Buds 2 Pro and even though they're very light and clearly not a luxury item they still feel sophisticated and intentional in their design. Not like a cheap version of something that the company would rather you buy and then the watch Pro 2. Yeah it's slick clean. You never want to watch to go too crazy on design because then it won't match your outfits. So this feels like a pretty appropriate level to me. Right let's get into this phone it's a thin package so we all know what that means. Okay so the device is on top and below that is a generic white USB C to C cable which you should be able to use to transfer everything from the old phone and then an orange sim ejector. Right heel time. And right off the bat it's pretty clear that this is not your normal phone and it's not just that it looks different because you know these cases that I showed you. These are actually back plates. So if you look inside the packaging they came in you'll see a bunch of other stuff like this tool which is both a sim ejector and a screwdriver that allows you to take off these four screws on the back of your phone after which you unwind this circular piece and you're played pops off and this is a pretty big deal for a number of reasons. One that repairing this phone is going to be a lot easier and I hope cheaper than almost any other phone but that part's not confirmed. To that you don't need a case anymore you can actually use your phone naked, guilt-free knowing that if you ever do do something stupid you can just swap the back plate out for, I'm not even that much money, 29 pounds is what they're charging for these kits including the tools. The third thing is it means you can mix a match. So I really like this orange back. It swaps out the slightly cheap feeling very scratchable plastic for a more grippy, less scratchable vegan leather type finish and it's bright orange so let's put it on. But then I'm looking at the orange sim tray, the orange circle screw thing and the silver screws that come with it and thinking silver screws are pretty nice but for the other parts I think I prefer the black ones so I have just created my own two-tone finish on my phone and that's actually sick but the best part of this is that nothing has actually gone one step further to actually create an ecosystem around these weird screws and I don't even know what to call this. Now on this is the circle spinny thing. So if I want a phone stand for example unscrew your circle spinny thing and screw this down then and yeah the standard self isn't anything particularly special. It's not breaking new grounds in material science but if you decide that you want a phone stand then what better way to have a phone stand that doesn't need you to apply a sticky pad onto your case but instead physically screws into your device itself. It feels way more secure and also way more intentional like your stand was designed specifically for your phone. You want a lanyard same thing and I feel very confident that it's going to support the phone because it's bolted to it or like there's no magsafe wireless charging baked into this phone right you can't just slap one of those Apple wallets onto the back of this and expect it to hold but screw this CMF wallet enclosure in like this that's very secure and now you have your magnet to be able to attach your wallet on top of and this thing can hold like three cards this whole thing reminds me very much of a mentality that I discovered in India it's called jagad it means uh frugal innovation inventive ways to use what you have to achieve things that would normally require more resources because just by properly thinking this through before building it this company has genuinely achieved a really high level of functionality without making it cost them any more to build this thing you're actually getting something here but you can't get just by paying through the nose for a higher end device like nothing has managed to make something that gives their $250 phone a tangible leg up over my $1200 phone and that is absolutely amazing I'm mind this kind of wearing other possibilities like I'm just thinking as an example what if you use this screw and this screw to add a permanent lens attachment to your cameras you know instead of those ones that you have to clip on and anything more than a light breeze will remove for you now I would personally be a little bit worried about things getting inside they have managed to get an IPX true rating which is basically very minor water protection and nothing for dust and I think it's somewhat telling that that's the max rating they could get because yeah anything designed to be taken apart this easily is obviously not particularly well sealed and also as cool as the circles of anything is I do find it a little bit uncomfortable just because it sticks out but let me be very clear all in all for the price this is one of the best designed phones I've ever seen which I'm only half surprised by because the entire name of this sub brand CMF very literally stands for colors materials and finish it's actually the rest of the phone that surprised me more so let's talk about it if you're winning with design at $250 then where are you losing well it's not the screen this is a 120 Hertz adaptive ammo led full HD plus display it's very smooth it's sharp it's punchy this thing can display HDR 10 plus content which is a luxury that you could only get by paying over a thousand dollars like literally two years ago they've pre-installed a screen protector which I always rate and this right here is an in-display optical fingerprint scanner which is well it's fine it works even the brightness which is one of the first things to go is actually pretty good the company's advertising a 2000 net peak brightness but you don't need to achieve that in very very specific situations more typically this thing can go up to a max of 700 nets in normal brightness and then 1200 nets in ultra bright outdoor environments which means that in the absolute worst worst case scenarios you might have to squint a little bit but you'll pretty much never struggle to see it the only thing I would complain about and I'm being quite nitpicky here but the bottom bezel is slightly thicker than the other bezels and this is particularly interesting because I remember having a conversation with Carl Pay the CEO when he launched the nothing phone too he was basically explaining how much extra effort cost and engineering is required to just push this bottom lip down a tiny little bit even it all out and he made the decision to still do that on those more expensive nothing vence but now we're looking at a phone which is basically half of that cost I guess he's decided to let some of those design ideologies slip a little bit fair compromise though I still can't think of a better screen than this for 250 dollars so sure do you compromise on battery then no the phone as a 5000 million power cell the chip is actually based on the very efficient for an enemy to process the software skin is very light no thanks to the thousands of apps I've installed on top of it and I also noticed they set the phone to dark mode by default with all black icons which is good because this ammo led display will turn off anywhere it's displaying black pixels to the point where there is no doubt in my mind that I will be gracefully carried through the day by this thing like if I just pull up my battery settings now it's saying I've had four hours of screen on time and I'm still on 60% battery so I'm currently on track for this thing lasting 10 hours of screen on time on this charge which am I ever going to need more than that? Only weird thing is even though the phone is stupidly easy to take apart you still can't actually swap the battery out yourself if you decided that you're existing one is getting old which feels like a missed opportunity to me and the charging situation is okay there's no wireless charging and the wire charging is up to a pretty mediocre 33 watts but since you don't get the charging grip to achieve that wattage I imagine most people will be operating under that but the important thing is the battery life and the battery life they have nailed and you're not compromising with the software either this phone runs nothing OS 2.6 based on Android 14 and I love the software skin it's light it doesn't interfere too much with what stock Android already does well but where it does it's little thoughtful things to either make your phone more aesthetic or make it less distracting there's an AI generator tool for wallpapers which is quite limited in options it would be nice if you could at least specify the colour you wanted but equally it does turn out reliably good results they never seem to look too AI generated if you're not mean and you're getting that with two years of major Android updates and three years of security updates which is no doubt a big part of where money is saved compared to the more expensive nothing for two for example it's not a bad level of support it's pretty standard at this tier it's just it's nothing spectacular but it's the chip inside this phone that for me was the biggest wildcard I had no idea what to expect the phone's got six gigabytes of RAM on the base model and 128 gigs of storage interestingly expandable storage with up to a two terabyte SD card and it's paired with a media tech chip set the Dimensity 7300 and the reason that I didn't know what to expect is well at least on paper the Dimensity 7300 is actually less powerful than the 7200 which someone please explain the math to me but anyway this is what that looks like in practice so this is the latest game from Hoyovers the company who made Genshin Impact and providing them on game mode which you can access by just swiping in from the left I can play it at a pretty acceptable frame rate hovering up mostly high settings but even though there is a liquid cooling system on the inside I have noticed the performance declining with prolonged gaming so if I don't want it to get lag here then I'll get a more stable experience if I go down to medium settings so if you factor in that this is as demanding as mobile games get it then there isn't anything that you won't be able to play but you will have to make noticeable compromises to help some games look and on a day-to-day basis it doesn't feel slow but it also doesn't feel particularly fast the phone is mostly smooth with the occasional jitter every now and again but the thing that I noticed more is every time you click something or open an app or try to load something it takes just a little bit of time it's not like you're waiting around but there's just a fraction of thinking time with each action would I have expected anything different for a phone at this price no not really it's actually just that most of the phone is so good that it makes you forget how much it costs and I'm actually in my mind benchmarking it against much more expensive prices audio is probably the most obvious downgrade I noticed it's just a very simple mono speaker at the bottom you don't get any kind of stereo effect using the earpiece as a second speaker and you lose a little bit of the sophistication of your music when listening through it but I also wouldn't go as far as to say that it's a bad speaker and it is actually rather loud so then what this really came down to for me was the cameras if nothing managed to do all of what they've done and also smash it with the cameras then this thing was going straight to the whole of fame but equally this is where I was expecting a big noticeable dip in the phone experience so I slowly approached that camera button fully ready to lose a chunk of respect for this device do you know what these mad lads have kind of done it so the phone has two cameras but it's a little bit of weird one because the top camera is actually just on a sister camera you can hold your finger over it and still perform basically every single function of your phone's camera the only thing that you can't do without it is add the portrait mode effect to your shots so if I take this photo while covering the lens it'll look like this if I take the same photo after having removed my finger it will look like this what are those photos look like well very nicely detailed you have plenty of room to zoom in further and they will still look sharp the wide aperture and decent sensor size gets you some nice foreground background separation and mostly flawless high dynamic range I say mostly just because it's absolutely spot on for big scenes where there's an overexposed sky but it often misses the small things like a bright light bulb in your shop that needs controlling and you know what the video has no right to look this decent the phone shoots 4k footage at 30 frames per second and it doesn't feel particularly noisy which you might expect to do since this phone's chip doesn't have the best image signal processor it doesn't feel massively unstable which you might expect to give that this camera has no optical image stabilisation and the focusing isn't jittery which you might expect to give that there's no laser order focus or anything close to it the hardware of these cameras is nothing special for the price but it's the attention to fine tuning what is there that's the reason that you can record footage like this now for me there are four things that I felt have been a bit lacking the color science it's perfectly fine with most flowers and objects but it's faces that it really struggles with it's not a bit small but side by side with a top headphone it becomes very clear how much of that super intelligent fine tuning that you might have come to expect that you're missing out on the portraits which feel pretty fine in isolation but again next to a top headphone it doesn't take a detective to see the subtle nuances being lost the zooming experience is pretty bad the fact that there's no dedicated zoom camera combined with the lack of AI intelligence to know what to do without it means that zooming in 10 times here really does feel that you just took a photo to a one times and blew it up 10 times it's not pretty and then finally there's no ultra wide camera and I can I can kind of see why because obviously they're not going to have a lot of spare budget to add in a good one and so adding in a cheap one just for the sake of it might make the overall camera feel worse but it is still a lacking feature the key thing to bear in mind though is compare this camera to any phone in its own price range and I would say it's at least as good I just want to make it clear what you're not getting so the long and short of it is the CMA phone one is maybe the most instantly recognizable phone I have ever used we've seen this formula before company launches a new sub brand company wants to generate hype for that sub brand so company makes the first offering in that sub brand particularly generous point being it might not stay this way but that doesn't change the fact that for what this is right now at this price it feels like a complete steel to me\""
            ],
            "application/vnd.google.colaboratory.intrinsic+json": {
              "type": "string"
            }
          },
          "metadata": {},
          "execution_count": 13
        }
      ]
    },
    {
      "cell_type": "markdown",
      "source": [
        "# **Using Gemini 1.5 flash for response generatinon**"
      ],
      "metadata": {
        "id": "iONJsNAFCXvC"
      }
    },
    {
      "cell_type": "code",
      "source": [
        "# Taking question as input\n",
        "question = input(\"Enter your question: \")"
      ],
      "metadata": {
        "colab": {
          "base_uri": "https://localhost:8080/"
        },
        "id": "0r0XpSX4He66",
        "outputId": "6e127c6d-001f-4a4c-ff3c-40bb3347a553"
      },
      "execution_count": 18,
      "outputs": [
        {
          "name": "stdout",
          "output_type": "stream",
          "text": [
            "Enter your question: What mobiel is mentioned in the audio\n"
          ]
        }
      ]
    },
    {
      "cell_type": "code",
      "source": [
        "# Initialize a Gemini model appropriate for your use case.\n",
        "model = genai.GenerativeModel(model_name=\"gemini-1.5-flash\")\n",
        "\n",
        "# Defining promt for the required response\n",
        "promt = \"\"\"You are an expert in finding answers or matching answers for the asked question from the Knowledge Base Given below.\n",
        "           Your task is to analyze the complete Knowledge Base and answer the questions asked.\n",
        "           The Knowledge Base is : \"\"\" + knowledge_base + \"\"\"The Question is\"\"\" + question + \"\"\" The Output Must be like Question:<Asked Question> And in new Line Answer: <Answer Generated>\"\"\"\n",
        "\n",
        "# Pass the prompt and the audio file to Gemini.\n",
        "response = model.generate_content([promt])\n",
        "\n",
        "# Print the transcript.\n",
        "print(response.text)"
      ],
      "metadata": {
        "colab": {
          "base_uri": "https://localhost:8080/",
          "height": 69
        },
        "id": "4_RiTYmTBvQ2",
        "outputId": "e465f2f7-db7b-4f80-d8af-c676c628d849"
      },
      "execution_count": 20,
      "outputs": [
        {
          "output_type": "stream",
          "name": "stdout",
          "text": [
            "Question: What mobiel is mentioned in the audio?\n",
            "Answer: The Nothing CMF phone one. \n",
            "\n"
          ]
        }
      ]
    },
    {
      "cell_type": "markdown",
      "source": [
        "# **Generating Multiple Questions for the KB**"
      ],
      "metadata": {
        "id": "2X5HiKzcINa1"
      }
    },
    {
      "cell_type": "code",
      "source": [
        "n_questions = input(\"Enter the number of questions you want to generate: \")"
      ],
      "metadata": {
        "colab": {
          "base_uri": "https://localhost:8080/"
        },
        "id": "KdgJcxfRIMx6",
        "outputId": "1d4aad80-9355-4ea5-c2fb-0efedb329b28"
      },
      "execution_count": 23,
      "outputs": [
        {
          "name": "stdout",
          "output_type": "stream",
          "text": [
            "Enter the number of questions you want to generate: 3\n"
          ]
        }
      ]
    },
    {
      "cell_type": "code",
      "source": [
        "# Defining promt for the required response\n",
        "questions_promt = \"\"\"You are an expert in framing the number of questions asked.\n",
        "           Your task is to analyze the complete Knowledge Base and generate the number of questions asked.\n",
        "           The Knowledge Base is : \"\"\" + knowledge_base + \"\"\"The Number of Questions need to be Generated is\"\"\" + n_questions + \"\"\"The output must be 1.<Question1> 2.<Question2> 3.<Question3> upto specified number of questions\"\"\"\n",
        "\n",
        "# Pass the prompt and the audio file to Gemini.\n",
        "question_response = model.generate_content([questions_promt])\n",
        "\n",
        "# Print the transcript.\n",
        "print(question_response.text)"
      ],
      "metadata": {
        "colab": {
          "base_uri": "https://localhost:8080/",
          "height": 141
        },
        "id": "RnYFgl8JIaKl",
        "outputId": "d9defdda-0ae6-456a-b40b-dc096e23cf5c"
      },
      "execution_count": 24,
      "outputs": [
        {
          "output_type": "stream",
          "name": "stdout",
          "text": [
            "Here are three questions based on the provided text:\n",
            "\n",
            "1. **How does the Nothing CMF Phone 1's modular design contribute to its overall value and user experience?**  This question explores the unique selling point of the phone, focusing on the replaceable back plates and the ecosystem of accessories that integrate with the modular design. \n",
            "2. **Considering the phone's price point, how does the performance of the MediaTek Dimensity 7300 chip compare to expectations, and how does it impact the user experience?** This question focuses on the phone's processing power, considering its price and comparing it to other chipsets in the same range. It also asks about the impact of performance on day-to-day usage and gaming.\n",
            "3. **Despite the impressive camera performance for the phone's price, what specific aspects of the camera system could be improved, and what are the potential trade-offs involved in making those improvements?** This question delves into the specific limitations of the phone's camera system, considering the cost constraints and the potential for improvements that might compromise other aspects of the phone. \n",
            "\n"
          ]
        }
      ]
    },
    {
      "cell_type": "markdown",
      "source": [
        "# **Summarizing the transcript of the YouTube video**"
      ],
      "metadata": {
        "id": "GWH_RGPmKWni"
      }
    },
    {
      "cell_type": "code",
      "source": [
        "# Specifing the Summarizing prompt\n",
        "summary_promt = \"\"\"You are an expert in English Language\n",
        "                   Now your task is to summarize the given content into 250 words and remove any gramatical mistakes.\n",
        "                   The summary is :-\"\"\" + knowledge_base + \"\"\" Generate the Important points in each line\"\"\"\n",
        "\n",
        "# Pass the prompt and the audio file to Gemini.\n",
        "summary_response = model.generate_content([summary_promt])\n",
        "\n",
        "# Print the transcript.\n",
        "print(summary_response.text)"
      ],
      "metadata": {
        "colab": {
          "base_uri": "https://localhost:8080/",
          "height": 176
        },
        "id": "Hv8xcYYkJdaO",
        "outputId": "798bed79-c4cf-416a-ec5e-32a284f139bc"
      },
      "execution_count": 26,
      "outputs": [
        {
          "output_type": "stream",
          "name": "stdout",
          "text": [
            "The Nothing CMF Phone 1 is a budget-friendly smartphone with a unique accessory ecosystem. It features swappable backplates, allowing for customization and easy repairs. The design prioritizes functionality and innovation, utilizing simple, well-designed materials. \n",
            "\n",
            "The phone boasts a 120Hz AMOLED display with HDR10+ support, delivering a smooth and vibrant visual experience. It also offers a 5000mAh battery with excellent battery life and a light software experience. \n",
            "\n",
            "While the processor and camera are not top-tier, they perform admirably for the price point. The camera delivers impressive image quality and video recording capabilities, albeit with some limitations in color science and zoom. \n",
            "\n",
            "Overall, the Nothing CMF Phone 1 offers a compelling value proposition, delivering a high level of functionality and design at a budget-friendly price. It's a testament to Nothing's commitment to innovation and making quality technology accessible. \n",
            "\n"
          ]
        }
      ]
    },
    {
      "cell_type": "markdown",
      "source": [
        "# **Generating the MCQs questons for it.**"
      ],
      "metadata": {
        "id": "2qVsK6SZLYj5"
      }
    },
    {
      "cell_type": "code",
      "source": [
        "mcqs_prompt = \"\"\"You are an expert in framing the number of MCQ questions asked.\n",
        "           Your task is to analyze the complete Knowledge Base and generate the number of questions asked.\n",
        "           The Knowledge Base is : \"\"\" + knowledge_base + \"\"\"The Number of Questions need to be Generated is\"\"\" + n_questions + \"\"\"The output must be 1.<Question1> a. opt1 b. op2 c. opt3 d. opt4  2.<Question2>a. opt1 b. op2 c. opt3 d. opt4 3.<Question3>a. opt1 b. op2 c. opt3 d. opt4 upto specified number of questions\"\"\"\n",
        "\n",
        "# Pass the prompt and the audio file to Gemini.\n",
        "mcqs_response = model.generate_content([mcqs_prompt])\n",
        "\n",
        "# Print the transcript.\n",
        "print(mcqs_response.text)"
      ],
      "metadata": {
        "colab": {
          "base_uri": "https://localhost:8080/",
          "height": 416
        },
        "id": "imOSHRg-KwZS",
        "outputId": "d6cacd9f-97ea-47f1-dd22-c97ff0055039"
      },
      "execution_count": 27,
      "outputs": [
        {
          "output_type": "stream",
          "name": "stdout",
          "text": [
            "## MCQ Questions from the Knowledge Base:\n",
            "\n",
            "**1. What is the main selling point of the Nothing CMF phone one?** \n",
            "\n",
            "a. Its powerful processor \n",
            "b. Its innovative design and modularity\n",
            "c. Its impressive camera system \n",
            "d. Its affordable price \n",
            "\n",
            "**2. What is the main reason for the phone's unique design, allowing for replaceable back plates?**\n",
            "\n",
            "a. To offer customization options\n",
            "b. To simplify repairs and reduce costs\n",
            "c. To enable different functionalities with different back plates\n",
            "d. All of the above\n",
            "\n",
            "**3. Which of the following features is NOT present in the Nothing CMF phone one?** \n",
            "\n",
            "a. Wireless charging \n",
            "b. In-display fingerprint sensor\n",
            "c. 120Hz refresh rate display\n",
            "d. Stereo speakers \n",
            "\n"
          ]
        }
      ]
    },
    {
      "cell_type": "code",
      "source": [],
      "metadata": {
        "id": "lmuKddWBL-lV"
      },
      "execution_count": null,
      "outputs": []
    }
  ]
}